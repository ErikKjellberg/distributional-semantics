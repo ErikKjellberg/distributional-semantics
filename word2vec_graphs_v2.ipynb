{
 "cells": [
  {
   "cell_type": "code",
   "execution_count": 1,
   "metadata": {},
   "outputs": [],
   "source": [
    "from gensim.models import Word2Vec\n",
    "import gensim\n",
    "#from nltk.tokenize import sent_tokenize, word_tokenize\n",
    "from sklearn.metrics.pairwise import cosine_similarity"
   ]
  },
  {
   "cell_type": "code",
   "execution_count": 2,
   "metadata": {},
   "outputs": [],
   "source": [
    "from numpy.linalg import svd\n",
    "import numpy as np\n",
    "from tqdm import tqdm"
   ]
  },
  {
   "cell_type": "code",
   "execution_count": 15,
   "metadata": {},
   "outputs": [],
   "source": [
    "class SentenceIterator:\n",
    "    def __init__(self, filename):\n",
    "        self.filename = filename\n",
    "\n",
    "    def __iter__(self):\n",
    "        with open(self.filename, 'r') as f:\n",
    "            for line in f:\n",
    "                yield line.strip(\"\\n\").split(\" \")"
   ]
  },
  {
   "cell_type": "code",
   "execution_count": 16,
   "metadata": {},
   "outputs": [],
   "source": [
    "iterator_1 = SentenceIterator(\"../semeval2020_ulscd_swe/corpus1/lemma/kubhist2a.txt\")\n",
    "iterator_2 = SentenceIterator(\"../semeval2020_ulscd_swe/corpus2/lemma/kubhist2b.txt\")"
   ]
  },
  {
   "cell_type": "code",
   "execution_count": 17,
   "metadata": {},
   "outputs": [],
   "source": [
    "model_1 = gensim.models.Word2Vec(iterator_1, window=5)"
   ]
  },
  {
   "cell_type": "code",
   "execution_count": 18,
   "metadata": {},
   "outputs": [],
   "source": [
    "model_1.save(\"../models/model_old.model\")"
   ]
  },
  {
   "cell_type": "code",
   "execution_count": 21,
   "metadata": {},
   "outputs": [],
   "source": [
    "model_2 = gensim.models.Word2Vec(iterator_2, window=5)"
   ]
  },
  {
   "cell_type": "code",
   "execution_count": 22,
   "metadata": {},
   "outputs": [],
   "source": [
    "model_2.save(\"../models/model_new.model\")"
   ]
  },
  {
   "cell_type": "code",
   "execution_count": 3,
   "metadata": {},
   "outputs": [],
   "source": [
    "#Load the models here if you already have computed embeddings and saved the models\n",
    "model_1 = Word2Vec.load(\"../models/model_old.model\")\n",
    "model_2 = Word2Vec.load(\"../models/model_new.model\")"
   ]
  },
  {
   "cell_type": "code",
   "execution_count": 4,
   "metadata": {},
   "outputs": [],
   "source": [
    "common_words = list(set(model_1.wv.key_to_index.keys()).intersection(set(model_2.wv.key_to_index.keys())))"
   ]
  },
  {
   "cell_type": "code",
   "execution_count": 6,
   "metadata": {},
   "outputs": [],
   "source": [
    "# Align matrices using the orthogonal procrustes procedure\n",
    "def align_matrices(A, B):\n",
    "    u, sigma, vT = svd(np.matmul(A, B.transpose()), full_matrices=False)\n",
    "    R = np.matmul(vT.transpose(), u.transpose())\n",
    "    A_new = np.matmul(R, A)\n",
    "    return A_new, B\n",
    "\n",
    "def align_embeddings(emb_1, emb_2):\n",
    "    emb1_new, _ = align_matrices(emb_1.transpose(),emb_2.transpose())\n",
    "    return emb1_new.transpose(), emb_2"
   ]
  },
  {
   "cell_type": "code",
   "execution_count": 7,
   "metadata": {},
   "outputs": [],
   "source": [
    "common_embs_1 = np.array([model_1.wv[word] for word in common_words])\n",
    "common_embs_2 = np.array([model_2.wv[word] for word in common_words])"
   ]
  },
  {
   "cell_type": "code",
   "execution_count": 8,
   "metadata": {},
   "outputs": [],
   "source": [
    "rotated_vectors, _ = align_embeddings(common_embs_1, common_embs_2)"
   ]
  },
  {
   "cell_type": "code",
   "execution_count": 9,
   "metadata": {},
   "outputs": [],
   "source": [
    "emb_dict_1 = {}\n",
    "emb_dict_2 = {}\n",
    "for i, word in enumerate(common_words):\n",
    "    emb_dict_1[word] = rotated_vectors[i]\n",
    "    emb_dict_2[word] = common_embs_2[i]"
   ]
  },
  {
   "cell_type": "code",
   "execution_count": 10,
   "metadata": {},
   "outputs": [],
   "source": [
    "similarities = {}\n",
    "for word in common_words:\n",
    "    similarities[word] = cosine_similarity(emb_dict_1[word].reshape(1,-1),emb_dict_2[word].reshape(1,-1))[0][0]"
   ]
  },
  {
   "cell_type": "code",
   "execution_count": 11,
   "metadata": {},
   "outputs": [],
   "source": [
    "sorted_by_similarity = sorted(similarities.items(), key = lambda x : x[1])"
   ]
  },
  {
   "cell_type": "code",
   "execution_count": 12,
   "metadata": {},
   "outputs": [
    {
     "data": {
      "text/plain": [
       "('icke', 0.918219)"
      ]
     },
     "execution_count": 12,
     "metadata": {},
     "output_type": "execute_result"
    }
   ],
   "source": [
    "sorted_by_similarity[-1]"
   ]
  },
  {
   "cell_type": "code",
   "execution_count": 13,
   "metadata": {},
   "outputs": [],
   "source": [
    "def compare_most_similar(model_1, model_2, word):\n",
    "    most_similar_1 = model_1.wv.most_similar(word)\n",
    "    most_similar_2 = model_2.wv.most_similar(word)\n",
    "    print(\"\\t Model 1 \\t\\tModel 2\")\n",
    "    for i in range(min(len(most_similar_1),len(most_similar_2))):\n",
    "        print(f\"{i}\\t{most_similar_1[i][0]}: {most_similar_1[i][1]:.3f}\\t\\t{most_similar_2[i][0]}: {most_similar_2[i][1]:.3f}\")"
   ]
  },
  {
   "cell_type": "code",
   "execution_count": 94,
   "metadata": {},
   "outputs": [
    {
     "name": "stdout",
     "output_type": "stream",
     "text": [
      "\t Model 1 \t\tModel 2\n",
      "0\tgrundsats: 0.832\t\tutrikespolitik: 0.785\n",
      "1\tprincip: 0.799\t\tunionspolitik: 0.776\n",
      "2\tstatsförfattning: 0.793\t\tparlamentarism: 0.759\n",
      "3\tsystem: 0.787\t\ttaktik: 0.726\n",
      "4\tgrundsattser: 0.764\t\tradikalism: 0.718\n",
      "5\täsigter: 0.761\t\tchauvinism: 0.714\n",
      "6\tinteresien: 0.752\t\torgan: 0.712\n",
      "7\tsyftning: 0.751\t\tpolitisk: 0.710\n",
      "8\tlagstiftning: 0.749\t\tpräss: 0.706\n",
      "9\tpolitista: 0.749\t\tpress: 0.703\n"
     ]
    }
   ],
   "source": [
    "target_word = \"politik\"\n",
    "compare_most_similar(model_1, model_2, target_word)"
   ]
  },
  {
   "cell_type": "code",
   "execution_count": 110,
   "metadata": {},
   "outputs": [],
   "source": [
    "import umap\n",
    "import matplotlib.pyplot as plt\n",
    "from mpl_toolkits.mplot3d import Axes3D\n",
    "from matplotlib.cm import get_cmap\n",
    "from sklearn.cluster import KMeans\n"
   ]
  },
  {
   "cell_type": "code",
   "execution_count": 171,
   "metadata": {},
   "outputs": [],
   "source": [
    "def imagine(word, dimension):    \n",
    "        \n",
    "    most_similar_1 = model_1.wv.most_similar(word, topn=10)\n",
    "    most_similar_1.append((target_word, 1.0))\n",
    "\n",
    "\n",
    "    multi_dimens_list_1 = []\n",
    "    for i in range(len(most_similar_1)):\n",
    "        multi_dimens_list_1.append(model_1.wv[most_similar_1[i][0]])\n",
    "\n",
    "\n",
    "\n",
    "    reducer = umap.UMAP(n_neighbors=10, min_dist=0.1, n_components=dimension, random_state=42)\n",
    "    reduc_dim_list_1 = reducer.fit_transform(multi_dimens_list_1)\n",
    "\n",
    "\n",
    "    #Clusters\n",
    "    n_clusters = 5  \n",
    "    kmeans = KMeans(n_clusters=n_clusters, random_state=42)\n",
    "    labels = kmeans.fit_predict(reduc_dim_list_1)\n",
    "\n",
    "    #2D\n",
    "    if dimension == 2:\n",
    "\n",
    "        plt.figure(figsize=(10, 8))\n",
    "        #cmap = get_cmap(\"tab10\") # Choose \"tab10\", \"viridis\", \"plasma\"\n",
    "        for i, tuple in enumerate(most_similar_1):\n",
    "            x, y= reduc_dim_list_1[i]\n",
    "            cluster_label = labels[i]\n",
    "            plt.scatter(x, y, color=cmap(cluster_label), label=f\"Cluster {cluster_label}\" if f\"Cluster {cluster_label}\" not in plt.gca().get_legend_handles_labels()[1] else None)\n",
    "            plt.text(x + 0.01, y + 0.01, tuple[0], fontsize=9)\n",
    "\n",
    "\n",
    "        plt.xlabel(\"UMAP Dimension 1\")\n",
    "        plt.ylabel(\"UMAP Dimension 2\")\n",
    "        plt.legend(title=\"Clusters\", bbox_to_anchor=(1.05, 1), loc=\"upper left\")\n",
    "\n",
    "\n",
    "    #3D\n",
    "    elif dimension == 3:\n",
    "\n",
    "\n",
    "        fig = plt.figure(figsize=(12, 10))\n",
    "        ax = fig.add_subplot(111, projection='3d')\n",
    "        cmap = get_cmap(\"tab10\") # Choose \"tab10\", \"viridis\", \"plasma\"\n",
    "        for i, tuple in enumerate(most_similar_1):\n",
    "            x, y, z = reduc_dim_list_1[i]\n",
    "            cluster_label = labels[i]\n",
    "            ax.scatter(x, y, z, color=cmap(cluster_label), label=f\"Cluster {cluster_label}\" if f\"Cluster {cluster_label}\" not in plt.gca().get_legend_handles_labels()[1] else None)\n",
    "            ax.text(x + 0.01, y + 0.01, z + 0.01, tuple[0], fontsize=8)\n",
    "\n",
    "        ax.set_xlabel(\"UMAP Dimension 1\")\n",
    "        ax.set_ylabel(\"UMAP Dimension 2\")\n",
    "        ax.set_zlabel(\"UMAP Dimension 3\")\n",
    "        ax.legend(title=\"Clusters\", bbox_to_anchor=(1.05, 1), loc=\"upper left\")\n",
    "\n",
    "\n",
    "    \n",
    "    plt.title(f\"UMAP Visualization for word '{target_word}' and Similar Words\")\n",
    "    plt.tight_layout()\n",
    "    plt.show()\n",
    "\n",
    "\n",
    "# imagine(target_word, 2)\n",
    "# imagine(target_word, 3)"
   ]
  },
  {
   "cell_type": "code",
   "execution_count": 170,
   "metadata": {},
   "outputs": [
    {
     "name": "stderr",
     "output_type": "stream",
     "text": [
      "/opt/anaconda3/envs/py310_env/lib/python3.10/site-packages/sklearn/utils/deprecation.py:151: FutureWarning: 'force_all_finite' was renamed to 'ensure_all_finite' in 1.6 and will be removed in 1.8.\n",
      "  warnings.warn(\n",
      "/opt/anaconda3/envs/py310_env/lib/python3.10/site-packages/umap/umap_.py:1952: UserWarning: n_jobs value 1 overridden to 1 by setting random_state. Use no seed for parallelism.\n",
      "  warn(\n"
     ]
    }
   ],
   "source": [
    "reducer = umap.UMAP(n_neighbors=20, min_dist=0.9, n_components=2, random_state=42)\n",
    "all_vectors = np.concatenate((common_embs_1,common_embs_2))\n",
    "reduc_dim_mix = reducer.fit_transform(all_vectors)"
   ]
  },
  {
   "cell_type": "code",
   "execution_count": 174,
   "metadata": {},
   "outputs": [
    {
     "name": "stdout",
     "output_type": "stream",
     "text": [
      "[[('grundsats', 0.8319324254989624), ('princip', 0.7986552715301514), ('statsförfattning', 0.7931532859802246), ('system', 0.7873449325561523), ('grundsattser', 0.7641224265098572), ('äsigter', 0.7606993913650513), ('interesien', 0.7515010237693787), ('syftning', 0.750504732131958), ('lagstiftning', 0.7486491203308105), ('politista', 0.7485437393188477), ('styrelseform', 0.7454885244369507), ('politisk', 0.7400339841842651), ('diplomatik', 0.7353585958480835), ('handlingssätt', 0.7319211959838867), ('opinion', 0.7269363403320312), ('maxim', 0.7247471809387207), ('mening', 0.7219759225845337), ('statskonst', 0.7206623554229736), ('afsigtcr', 0.7128368020057678), ('moderation', 0.712132453918457), ('politik', 1.0)], [('utrikespolitik', 0.7845776081085205), ('unionspolitik', 0.776295006275177), ('parlamentarism', 0.7593430876731873), ('taktik', 0.7259656190872192), ('radikalism', 0.7183257341384888), ('chauvinism', 0.7143756151199341), ('organ', 0.7122426629066467), ('politisk', 0.7097922563552856), ('präss', 0.7055394649505615), ('press', 0.7029173970222473), ('situation', 0.6990404725074768), ('socialdemokrati', 0.695281445980072), ('protektionism', 0.6908839344978333), ('separatism', 0.6889972686767578), ('allians', 0.6889809966087341), ('trippelallians', 0.6795545220375061), ('agitation', 0.6768254041671753), ('intrig', 0.675687849521637), ('prässen', 0.6749089360237122), ('arbetarerörelse', 0.672659695148468), ('politik', 1.0)]]\n"
     ]
    },
    {
     "name": "stderr",
     "output_type": "stream",
     "text": [
      "/var/folders/wd/h4jx1455657f5t8_rr1v43rh0000gq/T/ipykernel_11063/2734814439.py:43: MatplotlibDeprecationWarning: The get_cmap function was deprecated in Matplotlib 3.7 and will be removed in 3.11. Use ``matplotlib.colormaps[name]`` or ``matplotlib.colormaps.get_cmap()`` or ``pyplot.get_cmap()`` instead.\n",
      "  cmap = get_cmap(\"tab10\") # Choose \"tab10\", \"viridis\", \"plasma\"\n"
     ]
    },
    {
     "data": {
      "image/png": "[encoded data removed]",
      "text/plain": [
       "<Figure size 1000x800 with 1 Axes>"
      ]
     },
     "metadata": {},
     "output_type": "display_data"
    }
   ],
   "source": [
    "def imagine(word, dimension):    \n",
    "        \n",
    "    most_similar_1 = model_1.wv.most_similar(word, topn=20)\n",
    "    most_similar_1.append((target_word, 1.0))\n",
    "\n",
    "    most_similar_2 = model_2.wv.most_similar(word, topn=20)\n",
    "    most_similar_2.append((target_word, 1.0))\n",
    "\n",
    "    mix_similar = [most_similar_1, most_similar_2]\n",
    "    print(mix_similar)\n",
    "\n",
    "    multi_dimens_mix = []\n",
    "    for d in range(len(mix_similar)):\n",
    "        multi_dimens_mix.append([])\n",
    "        for i in range(len(mix_similar[d])):\n",
    "            multi_dimens_mix[d].append(model_1.wv[most_similar_1[i][0]])\n",
    "\n",
    "\n",
    "    # reducer = umap.UMAP(n_neighbors=10, min_dist=0.1, n_components=dimension, random_state=42)\n",
    "    #reduc_dim_mix = reducer.fit_transform(multi_dimens_mix[0]+multi_dimens_mix[1])\n",
    "\n",
    "    # all_vectors = np.concatenate((common_embs_1,common_embs_2))\n",
    "    # reduc_dim_mix = reducer.fit_transform(all_vectors)\n",
    "    reduced_dict_1 = {}\n",
    "    reduced_dict_2 = {}\n",
    "    for i, w in enumerate(common_words):\n",
    "        reduced_dict_1[w] = reduc_dim_mix[i]\n",
    "        reduced_dict_2[w] = reduc_dim_mix[i+len(reduc_dim_mix)//2]\n",
    "\n",
    "    reduc_dim_mix_dbl = [reduc_dim_mix[:11],reduc_dim_mix[11:]]\n",
    "\n",
    "    if \"grundsattser\" in reduced_dict_1:\n",
    "        print(\"yes\")\n",
    "    #Clusters\n",
    "    # n_clusters = 5  \n",
    "    # kmeans = KMeans(n_clusters=n_clusters, random_state=42)\n",
    "    # labels = kmeans.fit_predict(reduc_dim_list_1)\n",
    "\n",
    "    #2D\n",
    "    if dimension == 2:\n",
    "\n",
    "        plt.figure(figsize=(10, 8))\n",
    "        cmap = get_cmap(\"tab10\") # Choose \"tab10\", \"viridis\", \"plasma\"\n",
    "        for j, e in enumerate(mix_similar):\n",
    "            for i, tuple in enumerate(e):\n",
    "                #x, y = reduc_dim_list_1[i]\n",
    "                #x, y = reduc_dim_mix_dbl[j][i]\n",
    "                if j == 0:\n",
    "                    try:\n",
    "                        x, y = reduced_dict_1[tuple[0]]\n",
    "                    except KeyError:\n",
    "                        continue\n",
    "                else:\n",
    "                    try:\n",
    "                        x, y = reduced_dict_2[tuple[0]]\n",
    "                    except KeyError:\n",
    "                        continue\n",
    "                # cluster_label = labels[i]\n",
    "                if j == 0:\n",
    "                    plt.scatter(x, y, color='blue')\n",
    "                else:\n",
    "                    plt.scatter(x, y, color='red')\n",
    "\n",
    "                #plt.scatter(x, y, color=cmap(cluster_label), label=f\"Cluster {cluster_label}\" if f\"Cluster {cluster_label}\" not in plt.gca().get_legend_handles_labels()[1] else None)\n",
    "                plt.text(x + 0.1, y + 0.1, tuple[0], fontsize=9)\n",
    "\n",
    "\n",
    "        plt.xlabel(\"UMAP Dimension 1\")\n",
    "        plt.ylabel(\"UMAP Dimension 2\")\n",
    "        #plt.legend(title=\"Clusters\", bbox_to_anchor=(1.05, 1), loc=\"upper left\")\n",
    "\n",
    "\n",
    "    #3D\n",
    "    elif dimension == 3:\n",
    "\n",
    "\n",
    "        fig = plt.figure(figsize=(12, 10))\n",
    "        ax = fig.add_subplot(111, projection='3d')\n",
    "        cmap = get_cmap(\"tab10\") # Choose \"tab10\", \"viridis\", \"plasma\"\n",
    "        for i, tuple in enumerate(most_similar_1):\n",
    "            x, y, z = reduc_dim_list_1[i]\n",
    "            cluster_label = labels[i]\n",
    "            ax.scatter(x, y, z, color=cmap(cluster_label), label=f\"Cluster {cluster_label}\" if f\"Cluster {cluster_label}\" not in plt.gca().get_legend_handles_labels()[1] else None)\n",
    "            ax.text(x + 0.01, y + 0.01, z + 0.01, tuple[0], fontsize=8)\n",
    "\n",
    "        ax.set_xlabel(\"UMAP Dimension 1\")\n",
    "        ax.set_ylabel(\"UMAP Dimension 2\")\n",
    "        ax.set_zlabel(\"UMAP Dimension 3\")\n",
    "        ax.legend(title=\"Clusters\", bbox_to_anchor=(1.05, 1), loc=\"upper left\")\n",
    "\n",
    "\n",
    "    \n",
    "    plt.title(f\"UMAP Visualization for word '{target_word}' and Similar Words\")\n",
    "    plt.tight_layout()\n",
    "    plt.show()\n",
    "\n",
    "\n",
    "imagine(target_word, 2)\n",
    "# imagine(target_word, 3)"
   ]
  },
  {
   "cell_type": "code",
   "execution_count": 165,
   "metadata": {},
   "outputs": [
    {
     "data": {
      "text/plain": [
       "array([-0.14083008, -0.20930934,  0.8902618 ,  0.17766888, -0.4940379 ,\n",
       "        0.20032199,  0.27467144,  0.04745303,  0.8204266 , -0.6232398 ,\n",
       "        0.29780325,  0.38314173, -0.26404282, -0.44427177, -0.16187459,\n",
       "        0.31406233, -0.0114156 ,  0.5946992 , -0.4103501 , -0.16365999,\n",
       "       -0.03668376,  0.00722013,  0.09164137,  0.33069178, -0.1624936 ,\n",
       "        0.3191231 ,  0.01927621,  0.5517698 , -0.2319205 , -0.05455146,\n",
       "        0.2377945 , -0.3089315 ,  0.91887456,  0.3389211 ,  0.49263322,\n",
       "        0.0134864 ,  0.49927673, -0.18811691, -0.5926283 ,  0.23593664,\n",
       "        0.25038362,  0.05616631, -0.22671132,  0.341393  ,  0.5658385 ,\n",
       "       -0.29724178, -0.9388461 ,  0.39461383,  0.03928311,  0.0644972 ,\n",
       "        1.2776223 ,  0.33877087, -0.902825  , -0.2906707 , -0.86736053,\n",
       "        0.49228945,  1.219236  ,  0.39576995,  0.38463968,  0.37360394,\n",
       "        0.20095602,  0.02759666, -0.06734325,  0.5542623 , -0.04348721,\n",
       "       -0.55140436,  0.35771212, -0.28292024, -0.24558023, -0.80950075,\n",
       "       -0.6011996 ,  0.21047159,  0.5474298 ,  0.18849476,  0.07248362,\n",
       "        0.3907948 , -0.7656751 ,  0.6581107 ,  0.33517078,  0.10276198,\n",
       "        0.47718933,  0.15229465, -0.4865936 , -0.05000622, -0.530825  ,\n",
       "        0.11434377, -0.29283884, -0.4266633 , -0.76567185,  0.19632475,\n",
       "        0.8745244 , -0.22715181, -0.06632959, -0.40180743,  1.0574889 ,\n",
       "       -0.26563153,  0.10263257, -0.46594286, -0.3613414 ,  0.4335662 ],\n",
       "      dtype=float32)"
      ]
     },
     "execution_count": 165,
     "metadata": {},
     "output_type": "execute_result"
    }
   ],
   "source": [
    "reduced"
   ]
  }
 ],
 "metadata": {
  "kernelspec": {
   "display_name": "py310_env",
   "language": "python",
   "name": "python3"
  },
  "language_info": {
   "codemirror_mode": {
    "name": "ipython",
    "version": 3
   },
   "file_extension": ".py",
   "mimetype": "text/x-python",
   "name": "python",
   "nbconvert_exporter": "python",
   "pygments_lexer": "ipython3",
   "version": "3.10.13"
  }
 },
 "nbformat": 4,
 "nbformat_minor": 2
}

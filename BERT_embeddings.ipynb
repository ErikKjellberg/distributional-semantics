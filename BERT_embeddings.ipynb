{
 "cells": [
  {
   "cell_type": "code",
   "execution_count": 1,
   "metadata": {},
   "outputs": [
    {
     "name": "stderr",
     "output_type": "stream",
     "text": [
      "/home/erik/miniconda3/envs/expenv/lib/python3.9/site-packages/tqdm/auto.py:21: TqdmWarning: IProgress not found. Please update jupyter and ipywidgets. See https://ipywidgets.readthedocs.io/en/stable/user_install.html\n",
      "  from .autonotebook import tqdm as notebook_tqdm\n"
     ]
    }
   ],
   "source": [
    "from transformers import BertModel, BertTokenizer"
   ]
  },
  {
   "cell_type": "code",
   "execution_count": 66,
   "metadata": {},
   "outputs": [],
   "source": [
    "from sklearn.metrics.pairwise import cosine_similarity\n",
    "import torch\n",
    "import numpy as np"
   ]
  },
  {
   "cell_type": "code",
   "execution_count": 31,
   "metadata": {},
   "outputs": [
    {
     "name": "stderr",
     "output_type": "stream",
     "text": [
      "/home/erik/miniconda3/envs/expenv/lib/python3.9/site-packages/transformers/tokenization_utils_base.py:1601: FutureWarning: `clean_up_tokenization_spaces` was not set. It will be set to `True` by default. This behavior will be depracted in transformers v4.45, and will be then set to `False` by default. For more details check this issue: https://github.com/huggingface/transformers/issues/31884\n",
      "  warnings.warn(\n"
     ]
    }
   ],
   "source": [
    "# Initialize the model and tokenizer\n",
    "model = BertModel.from_pretrained(\"bert-base-cased\").eval()\n",
    "tokenizer = BertTokenizer.from_pretrained(\"bert-base-cased\")"
   ]
  },
  {
   "cell_type": "code",
   "execution_count": 171,
   "metadata": {},
   "outputs": [],
   "source": [
    "example_sentences = [\"I went to the store to buy some strawberry jam\", \"There was a huge traffic jam this morning\", \"Last night, the band had a great jam\", \"She spread the jam evenly on the bread\", \"I love eating jam\"]\n",
    "\n",
    "# Tokenize the sentences\n",
    "tokenized = tokenizer.batch_encode_plus(example_sentences, padding=True, return_tensors='pt', add_special_tokens=True)"
   ]
  },
  {
   "cell_type": "code",
   "execution_count": 135,
   "metadata": {},
   "outputs": [
    {
     "name": "stdout",
     "output_type": "stream",
     "text": [
      "{'input_ids': tensor([[  101,  1109,  6363,  1127,  1304,  2816,   102,     0,     0],\n",
      "        [  101,  1109, 11771,  1127,  1304,  6782,   102,     0,     0],\n",
      "        [  101,   146,  1355,  1106,   170,  3240,  1314,  1480,   102],\n",
      "        [  101,  1109,  2298,  3885,  1103,  3240,   102,     0,     0],\n",
      "        [  101,  1109,  1873,  5866,  1103,  3240,   102,     0,     0]]), 'token_type_ids': tensor([[0, 0, 0, 0, 0, 0, 0, 0, 0],\n",
      "        [0, 0, 0, 0, 0, 0, 0, 0, 0],\n",
      "        [0, 0, 0, 0, 0, 0, 0, 0, 0],\n",
      "        [0, 0, 0, 0, 0, 0, 0, 0, 0],\n",
      "        [0, 0, 0, 0, 0, 0, 0, 0, 0]]), 'attention_mask': tensor([[1, 1, 1, 1, 1, 1, 1, 0, 0],\n",
      "        [1, 1, 1, 1, 1, 1, 1, 0, 0],\n",
      "        [1, 1, 1, 1, 1, 1, 1, 1, 1],\n",
      "        [1, 1, 1, 1, 1, 1, 1, 0, 0],\n",
      "        [1, 1, 1, 1, 1, 1, 1, 0, 0]])}\n"
     ]
    }
   ],
   "source": [
    "print(tokenized)"
   ]
  },
  {
   "cell_type": "code",
   "execution_count": 136,
   "metadata": {},
   "outputs": [
    {
     "data": {
      "text/plain": [
       "tensor([[  101,  1109,  6363,  1127,  1304,  2816,   102,     0,     0],\n",
       "        [  101,  1109, 11771,  1127,  1304,  6782,   102,     0,     0],\n",
       "        [  101,   146,  1355,  1106,   170,  3240,  1314,  1480,   102],\n",
       "        [  101,  1109,  2298,  3885,  1103,  3240,   102,     0,     0],\n",
       "        [  101,  1109,  1873,  5866,  1103,  3240,   102,     0,     0]])"
      ]
     },
     "execution_count": 136,
     "metadata": {},
     "output_type": "execute_result"
    }
   ],
   "source": [
    "# These are the vocabulary ids of each token\n",
    "tokenized['input_ids']"
   ]
  },
  {
   "cell_type": "code",
   "execution_count": 172,
   "metadata": {},
   "outputs": [],
   "source": [
    "# Get word embeddings for all sentences\n",
    "with torch.no_grad():\n",
    "    embeddings = model(**tokenized).last_hidden_state"
   ]
  },
  {
   "cell_type": "code",
   "execution_count": 153,
   "metadata": {},
   "outputs": [
    {
     "data": {
      "text/plain": [
       "torch.Size([5, 13, 768])"
      ]
     },
     "execution_count": 153,
     "metadata": {},
     "output_type": "execute_result"
    }
   ],
   "source": [
    "embeddings.shape"
   ]
  },
  {
   "cell_type": "code",
   "execution_count": 173,
   "metadata": {},
   "outputs": [
    {
     "name": "stdout",
     "output_type": "stream",
     "text": [
      "['[CLS]', 'I', 'went', 'to', 'the', 'store', 'to', 'buy', 'some', 'straw', '##berry', 'jam', '[SEP]']\n",
      "11\n",
      "['[CLS]', 'There', 'was', 'a', 'huge', 'traffic', 'jam', 'this', 'morning', '[SEP]', '[PAD]', '[PAD]', '[PAD]']\n",
      "6\n",
      "['[CLS]', 'Last', 'night', ',', 'the', 'band', 'had', 'a', 'great', 'jam', '[SEP]', '[PAD]', '[PAD]']\n",
      "9\n",
      "['[CLS]', 'She', 'spread', 'the', 'jam', 'evenly', 'on', 'the', 'bread', '[SEP]', '[PAD]', '[PAD]', '[PAD]']\n",
      "4\n",
      "['[CLS]', 'I', 'love', 'eating', 'jam', '[SEP]', '[PAD]', '[PAD]', '[PAD]', '[PAD]', '[PAD]', '[PAD]', '[PAD]']\n",
      "4\n"
     ]
    }
   ],
   "source": [
    "# Compare the embeddings of the word \"jam\" in different sentences\n",
    "interesting_embeddings = []\n",
    "interesting_token = \"jam\"\n",
    "\n",
    "for i in range(embeddings.shape[0]):\n",
    "    tokens = [tokenizer.ids_to_tokens[int(id)] for id in tokenized['input_ids'][i]]\n",
    "    print(tokens)\n",
    "    index = tokens.index(interesting_token)\n",
    "    print(index)\n",
    "    interesting_embeddings.append(embeddings[i][index].reshape(1,-1))\n",
    "    "
   ]
  },
  {
   "cell_type": "code",
   "execution_count": 174,
   "metadata": {},
   "outputs": [
    {
     "name": "stdout",
     "output_type": "stream",
     "text": [
      "1.000 0.536 0.840 0.656 0.893\n",
      "0.536 1.000 0.527 0.684 0.513\n",
      "0.840 0.527 1.000 0.589 0.820\n",
      "0.656 0.684 0.589 1.000 0.595\n",
      "0.893 0.513 0.820 0.595 1.000\n"
     ]
    }
   ],
   "source": [
    "# Look at the pairwise cosine similarities between all instances of \"jam\"\n",
    "for emb in interesting_embeddings:\n",
    "    print(\" \".join(f\"{cosine_similarity(emb, emb2)[0][0]:.3f}\" for emb2 in interesting_embeddings))"
   ]
  }
 ],
 "metadata": {
  "kernelspec": {
   "display_name": "expenv",
   "language": "python",
   "name": "python3"
  },
  "language_info": {
   "codemirror_mode": {
    "name": "ipython",
    "version": 3
   },
   "file_extension": ".py",
   "mimetype": "text/x-python",
   "name": "python",
   "nbconvert_exporter": "python",
   "pygments_lexer": "ipython3",
   "version": "3.9.20"
  }
 },
 "nbformat": 4,
 "nbformat_minor": 2
}

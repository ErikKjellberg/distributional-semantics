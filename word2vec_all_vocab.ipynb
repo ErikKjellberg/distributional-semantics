{
 "cells": [
  {
   "cell_type": "code",
   "execution_count": 1,
   "metadata": {},
   "outputs": [
    {
     "name": "stderr",
     "output_type": "stream",
     "text": [
      "/home/erik/miniconda3/envs/expenv/lib/python3.9/site-packages/tqdm/auto.py:21: TqdmWarning: IProgress not found. Please update jupyter and ipywidgets. See https://ipywidgets.readthedocs.io/en/stable/user_install.html\n",
      "  from .autonotebook import tqdm as notebook_tqdm\n"
     ]
    }
   ],
   "source": [
    "from gensim.models import Word2Vec\n",
    "import gensim\n",
    "from sklearn.metrics.pairwise import cosine_similarity\n",
    "from numpy.linalg import svd\n",
    "import numpy as np\n",
    "import umap\n",
    "import matplotlib.pyplot as plt\n",
    "from mpl_toolkits.mplot3d import Axes3D\n",
    "from matplotlib.cm import get_cmap\n",
    "from sklearn.cluster import KMeans"
   ]
  },
  {
   "cell_type": "code",
   "execution_count": 2,
   "metadata": {},
   "outputs": [],
   "source": [
    "class SentenceIterator:\n",
    "    def __init__(self, filename):\n",
    "        self.filename = filename\n",
    "\n",
    "    def __iter__(self):\n",
    "        with open(self.filename, 'r') as f:\n",
    "            for line in f:\n",
    "                yield line.strip(\"\\n\").split(\" \")"
   ]
  },
  {
   "cell_type": "code",
   "execution_count": 3,
   "metadata": {},
   "outputs": [],
   "source": [
    "iterator_1 = SentenceIterator(\"../semeval2020_ulscd_swe/corpus1/lemma/kubhist2a.txt\")\n",
    "iterator_2 = SentenceIterator(\"../semeval2020_ulscd_swe/corpus2/lemma/kubhist2b.txt\")"
   ]
  },
  {
   "cell_type": "code",
   "execution_count": 4,
   "metadata": {},
   "outputs": [],
   "source": [
    "#model_1 = gensim.models.Word2Vec(iterator_1, window=5)\n",
    "#model_2 = gensim.models.Word2Vec(iterator_2, window=5)\n",
    "# Option to use skip-grams\n",
    "model_1 = gensim.models.Word2Vec(iterator_1, window=5, sg=1)\n",
    "model_2 = gensim.models.Word2Vec(iterator_2, window=5, sg=1)"
   ]
  },
  {
   "cell_type": "code",
   "execution_count": 5,
   "metadata": {},
   "outputs": [],
   "source": [
    "# Save the models somewhere\n",
    "model_1.save(\"../models/model_old_sg.model\")\n",
    "model_2.save(\"../models/model_new_sg.model\")"
   ]
  },
  {
   "cell_type": "code",
   "execution_count": 3,
   "metadata": {},
   "outputs": [],
   "source": [
    "#Load the models here if you already have computed embeddings and saved the models\n",
    "model_1 = Word2Vec.load(\"../models/model_old_sg.model\")\n",
    "model_2 = Word2Vec.load(\"../models/model_new_sg.model\")"
   ]
  },
  {
   "cell_type": "code",
   "execution_count": 4,
   "metadata": {},
   "outputs": [],
   "source": [
    "# Find the words that both models have in their vocabulary\n",
    "common_words = list(set(model_1.wv.key_to_index.keys()).intersection(set(model_2.wv.key_to_index.keys())))"
   ]
  },
  {
   "cell_type": "code",
   "execution_count": 5,
   "metadata": {},
   "outputs": [],
   "source": [
    "# Align matrices using SVD\n",
    "def align_matrices(A, B):\n",
    "    u, sigma, vT = svd(np.matmul(A, B.transpose()), full_matrices=False)\n",
    "    R = np.matmul(vT.transpose(), u.transpose())\n",
    "    A_new = np.matmul(R, A)\n",
    "    return A_new, B, R\n",
    "\n",
    "def align_embeddings(emb_1, emb_2):\n",
    "    emb1_new, _, R = align_matrices(emb_1.transpose(),emb_2.transpose())\n",
    "    return emb1_new.transpose(), emb_2, R"
   ]
  },
  {
   "cell_type": "code",
   "execution_count": 6,
   "metadata": {},
   "outputs": [],
   "source": [
    "common_embs_1 = np.array([model_1.wv[word] for word in common_words])\n",
    "common_embs_2 = np.array([model_2.wv[word] for word in common_words])"
   ]
  },
  {
   "cell_type": "code",
   "execution_count": 7,
   "metadata": {},
   "outputs": [],
   "source": [
    "all_embs_1 = np.array([model_1.wv[word] for word in model_1.wv.key_to_index.keys()])\n",
    "all_embs_2 = np.array([model_2.wv[word] for word in model_2.wv.key_to_index.keys()])"
   ]
  },
  {
   "cell_type": "code",
   "execution_count": 8,
   "metadata": {},
   "outputs": [],
   "source": [
    "# Rotate the embeddings for model 1 to align more with the embeddings of model 2\n",
    "common_embs_1, _, R = align_embeddings(common_embs_1, common_embs_2)"
   ]
  },
  {
   "cell_type": "code",
   "execution_count": 9,
   "metadata": {},
   "outputs": [],
   "source": [
    "all_embs_1 = np.matmul(R, all_embs_1.transpose()).transpose()"
   ]
  },
  {
   "cell_type": "code",
   "execution_count": 10,
   "metadata": {},
   "outputs": [],
   "source": [
    "emb_dict_1 = {}\n",
    "emb_dict_2 = {}\n",
    "\n",
    "for i, word in enumerate(model_1.wv.key_to_index.keys()):\n",
    "    emb_dict_1[word] = all_embs_1[i]\n",
    "for i, word in enumerate(model_2.wv.key_to_index.keys()):\n",
    "    emb_dict_2[word] = all_embs_2[i]"
   ]
  },
  {
   "cell_type": "code",
   "execution_count": 11,
   "metadata": {},
   "outputs": [],
   "source": [
    "# Calculate the similarities between model 1 and 2 for all words in the vocabulary\n",
    "similarities = {}\n",
    "for word in common_words:\n",
    "    similarities[word] = cosine_similarity(emb_dict_1[word].reshape(1,-1),emb_dict_2[word].reshape(1,-1))[0][0]"
   ]
  },
  {
   "cell_type": "code",
   "execution_count": 12,
   "metadata": {},
   "outputs": [],
   "source": [
    "sorted_by_similarity = sorted(similarities.items(), key = lambda x : x[1])"
   ]
  },
  {
   "cell_type": "code",
   "execution_count": 13,
   "metadata": {},
   "outputs": [
    {
     "data": {
      "text/plain": [
       "[('vant', 0.025297908),\n",
       " ('inlägg', 0.054509662),\n",
       " ('träning', 0.055805728),\n",
       " ('klas', 0.06549085),\n",
       " ('svinna', 0.07552011),\n",
       " ('simla', 0.07753431),\n",
       " ('storstad', 0.09728634),\n",
       " ('vetta', 0.09746514),\n",
       " ('mohn', 0.09827229),\n",
       " ('km', 0.09880744)]"
      ]
     },
     "execution_count": 13,
     "metadata": {},
     "output_type": "execute_result"
    }
   ],
   "source": [
    "# Examine the words which have the largest distance between the corpora\n",
    "sorted_by_similarity[:10]"
   ]
  },
  {
   "cell_type": "code",
   "execution_count": 14,
   "metadata": {},
   "outputs": [],
   "source": [
    "# A function to compare the n most similar words to a given word, for two models\n",
    "def compare_most_similar(model_1, model_2, word, n=10):\n",
    "    most_similar_1 = model_1.wv.most_similar(word, topn=n)\n",
    "    most_similar_2 = model_2.wv.most_similar(word, topn=n)\n",
    "    print(\"\\t Model 1 \\t\\tModel 2\")\n",
    "    for i in range(min(len(most_similar_1),len(most_similar_2))):\n",
    "        print(f\"{i}\\t{most_similar_1[i][0]}: {most_similar_1[i][1]:.3f}\\t\\t{most_similar_2[i][0]}: {most_similar_2[i][1]:.3f}\")"
   ]
  },
  {
   "cell_type": "code",
   "execution_count": 15,
   "metadata": {},
   "outputs": [
    {
     "name": "stdout",
     "output_type": "stream",
     "text": [
      "\t Model 1 \t\tModel 2\n",
      "0\tgrundsattser: 0.824\t\tutrikespolitik: 0.823\n",
      "1\tgrundsats: 0.823\t\tunionspolitik: 0.807\n",
      "2\tsystem: 0.815\t\tinrikespolitik: 0.805\n",
      "3\tstatsförbund: 0.808\t\tvensterpolitiken: 0.781\n",
      "4\tstatsrätt: 0.802\t\tphas: 0.778\n",
      "5\tespri: 0.801\t\tpräss: 0.775\n",
      "6\tprincip: 0.800\t\tunionsfiendtliga: 0.774\n",
      "7\tstatskonst: 0.800\t\tunionssaken: 0.774\n",
      "8\tdiplomatik: 0.800\t\tfredspolitik: 0.772\n",
      "9\tsvstem: 0.799\t\tregeringschef: 0.772\n"
     ]
    }
   ],
   "source": [
    "target_word = \"politik\"\n",
    "compare_most_similar(model_1, model_2, target_word)"
   ]
  },
  {
   "cell_type": "code",
   "execution_count": 18,
   "metadata": {},
   "outputs": [],
   "source": [
    "# Reduce the dimensions of embeddings using umap\n",
    "def reduce_dimensions(embeddings, n_neighbors=10, min_dist=0.1, dimensions=2, metric='cosine'):\n",
    "    reducer = umap.UMAP(n_neighbors=n_neighbors, min_dist=min_dist, n_components=dimensions, metric=metric, random_state=42)\n",
    "    reduc_dim_embs = reducer.fit_transform(embeddings)\n",
    "    return reduc_dim_embs"
   ]
  },
  {
   "cell_type": "code",
   "execution_count": 19,
   "metadata": {},
   "outputs": [],
   "source": [
    "# Cluster using kmeans\n",
    "def cluster(embeddings, n):\n",
    "    kmeans = KMeans(n_clusters=n, random_state=42)\n",
    "    labels = kmeans.fit_predict(embeddings)\n",
    "    return labels"
   ]
  },
  {
   "cell_type": "code",
   "execution_count": 20,
   "metadata": {},
   "outputs": [],
   "source": [
    "# Visualize dimension reduced word embeddings for two different models.\n",
    "# reduced_embeddings is expected to be in an array with first the embeddings for model 1, then the embeddings for model 2,\n",
    "# with equally many of both.\n",
    "# To view clusters, set cluster=True and pass cluster_labels to the function.\n",
    "def visualize(reduced_embs_1, reduced_embs_2, model_1, model_2, target_word, common_vocab=False, topn=10, cluster=False, cluster_labels=None):\n",
    "    reduced_dict_1 = {}\n",
    "    reduced_dict_2 = {}\n",
    "    \n",
    "    model_1_words = model_1.wv.key_to_index.keys()\n",
    "    model_2_words = model_2.wv.key_to_index.keys()\n",
    "    \n",
    "    if common_vocab == False:\n",
    "        for i, w in enumerate(model_1_words):\n",
    "            reduced_dict_1[w] = reduced_embs_1[i]\n",
    "        for i, w in enumerate(model_2_words):\n",
    "            reduced_dict_2[w] = reduced_embs_2[i]\n",
    "    elif type(common_vocab) == list:\n",
    "        for i, w in enumerate(common_vocab):\n",
    "            reduced_dict_1[w] = reduced_embs_1[i]\n",
    "            reduced_dict_2[w] = reduced_embs_2[i]\n",
    "    else:\n",
    "        return 0\n",
    "\n",
    "\n",
    "    most_similar_1 = model_1.wv.most_similar(target_word, topn=topn)\n",
    "    most_similar_1.append((target_word, 1.0))\n",
    "\n",
    "    most_similar_2 = model_2.wv.most_similar(target_word, topn=topn)\n",
    "    most_similar_2.append((target_word, 1.0))\n",
    "\n",
    "    mix_similar = [most_similar_1, most_similar_2]\n",
    "    \n",
    "\n",
    "    #2D\n",
    "    if reduced_embs_1.shape[1] == 2:\n",
    "        plt.ion()\n",
    "        plt.figure(figsize=(10, 8))\n",
    "        cmap = get_cmap(\"tab10\") # Choose \"tab10\", \"viridis\", \"plasma\"\n",
    "        \n",
    "        for j, words in enumerate(mix_similar):\n",
    "            for i, tuple in enumerate(words):\n",
    "                try:\n",
    "                    reduced_dict = [reduced_dict_1, reduced_dict_2][j]\n",
    "                    x, y = reduced_dict[tuple[0]]\n",
    "                except KeyError:\n",
    "                    continue\n",
    "\n",
    "                if cluster:\n",
    "                    cluster_label = cluster_labels[i]\n",
    "                    plt.scatter(x, y, color=cmap(cluster_label), label=f\"Cluster {cluster_label}\" if f\"Cluster {cluster_label}\" not in plt.gca().get_legend_handles_labels()[1] else None)\n",
    "                else:\n",
    "                    plt.scatter(x, y, color=['blue','red'][j])\n",
    "\n",
    "                plt.text(x + 0.01, y + 0.01, tuple[0], fontsize=9)\n",
    "\n",
    "        plt.xlabel(\"UMAP Dimension 1\")\n",
    "        plt.ylabel(\"UMAP Dimension 2\")\n",
    "        if cluster:\n",
    "            plt.legend(title=\"Clusters\", bbox_to_anchor=(1.05, 1), loc=\"upper left\")\n",
    "        \n",
    "        plt.plot()\n",
    "\n",
    "    elif reduced_embs_2.shape[1] == 3:\n",
    "        fig = plt.figure(figsize=(12, 10))\n",
    "        ax = fig.add_subplot(111, projection='3d')\n",
    "        cmap = get_cmap(\"tab10\") # Choose \"tab10\", \"viridis\", \"plasma\"\n",
    "\n",
    "        for j, words in enumerate(mix_similar):\n",
    "            for i, tuple in enumerate(words):\n",
    "                try:\n",
    "                    reduced_dict = [reduced_dict_1, reduced_dict_2][j]\n",
    "                    x, y, z = reduced_dict[tuple[0]]\n",
    "                except KeyError:\n",
    "                    continue\n",
    "\n",
    "                if cluster:\n",
    "                    cluster_label = cluster_labels[i]\n",
    "                    ax.scatter(x, y, z, color=cmap(cluster_label), label=f\"Cluster {cluster_label}\" if f\"Cluster {cluster_label}\" not in plt.gca().get_legend_handles_labels()[1] else None)\n",
    "                else:\n",
    "                    ax.scatter(x, y, z, color=['blue','red'][j])\n",
    "\n",
    "                ax.text(x + 0.01, y + 0.01, z + 0.01, tuple[0], fontsize=8)\n",
    "\n",
    "        ax.set_xlabel(\"UMAP Dimension 1\")\n",
    "        ax.set_ylabel(\"UMAP Dimension 2\")\n",
    "        ax.set_zlabel(\"UMAP Dimension 3\")\n",
    "        if cluster:\n",
    "            ax.legend(title=\"Clusters\", bbox_to_anchor=(1.05, 1), loc=\"upper left\")\n",
    "        plt.plot()"
   ]
  },
  {
   "cell_type": "code",
   "execution_count": 66,
   "metadata": {},
   "outputs": [
    {
     "name": "stderr",
     "output_type": "stream",
     "text": [
      "/home/erik/miniconda3/envs/expenv/lib/python3.9/site-packages/umap/umap_.py:1952: UserWarning: n_jobs value 1 overridden to 1 by setting random_state. Use no seed for parallelism.\n",
      "  warn(\n"
     ]
    }
   ],
   "source": [
    "# Reduce the embeddings to be able to compare them visually\n",
    "all_embs = np.concatenate((all_embs_1, all_embs_2))\n",
    "all_reduced_embs = reduce_dimensions(all_embs, dimensions=2)"
   ]
  },
  {
   "cell_type": "code",
   "execution_count": 67,
   "metadata": {},
   "outputs": [],
   "source": [
    "reduced_embs_1 = all_reduced_embs[:len(all_embs_1)]\n",
    "reduced_embs_2 = all_reduced_embs[len(all_embs_1):]"
   ]
  },
  {
   "cell_type": "code",
   "execution_count": 71,
   "metadata": {},
   "outputs": [],
   "source": [
    "# Save the vectors to the disk.\n",
    "np.save(\"../embeddings/reduced_embs_min_20_n_neighbors_100.npy\", all_reduced_embs)\n",
    "np.save(\"../embeddings/reduced_embs_1_min_20_n_neighbors_100.npy\", reduced_embs_1)\n",
    "np.save(\"../embeddings/reduced_embs_2_min_20_n_neighbors_100.npy\", reduced_embs_2)"
   ]
  },
  {
   "cell_type": "code",
   "execution_count": 23,
   "metadata": {},
   "outputs": [],
   "source": [
    "# Or load already saved embeddings\n",
    "reduced_embs = np.load(\"../embeddings/reduced_embs.npy\")\n",
    "reduced_embs_1 = np.load(\"../embeddings/reduced_embs_1.npy\")\n",
    "reduced_embs_2 = np.load(\"../embeddings/reduced_embs_2.npy\")"
   ]
  },
  {
   "cell_type": "code",
   "execution_count": 28,
   "metadata": {},
   "outputs": [
    {
     "name": "stderr",
     "output_type": "stream",
     "text": [
      "/tmp/ipykernel_198187/3122262601.py:38: MatplotlibDeprecationWarning: The get_cmap function was deprecated in Matplotlib 3.7 and will be removed in 3.11. Use ``matplotlib.colormaps[name]`` or ``matplotlib.colormaps.get_cmap()`` or ``pyplot.get_cmap()`` instead.\n",
      "  cmap = get_cmap(\"tab10\") # Choose \"tab10\", \"viridis\", \"plasma\"\n"
     ]
    },
    {
     "data": {
      "image/png": "[encoded data removed]",
      "text/plain": [
       "<Figure size 1000x800 with 1 Axes>"
      ]
     },
     "metadata": {},
     "output_type": "display_data"
    }
   ],
   "source": [
    "# Visualize the semantic change!\n",
    "\n",
    "# Option to use clusters\n",
    "#labels = cluster(reduced_embs, 5)\n",
    "#visualize(reduced_embs_1, reduced_embs_2, model_1, model_2, \"hund\", cluster=True, cluster_labels=labels)\n",
    "\n",
    "visualize(reduced_embs_1, reduced_embs_2, model_1, model_2, \"politik\")"
   ]
  }
 ],
 "metadata": {
  "kernelspec": {
   "display_name": "py310_env",
   "language": "python",
   "name": "python3"
  },
  "language_info": {
   "codemirror_mode": {
    "name": "ipython",
    "version": 3
   },
   "file_extension": ".py",
   "mimetype": "text/x-python",
   "name": "python",
   "nbconvert_exporter": "python",
   "pygments_lexer": "ipython3",
   "version": "3.9.20"
  }
 },
 "nbformat": 4,
 "nbformat_minor": 2
}

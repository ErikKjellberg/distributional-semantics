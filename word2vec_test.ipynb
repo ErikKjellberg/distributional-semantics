{
 "cells": [
  {
   "cell_type": "code",
   "execution_count": 78,
   "metadata": {},
   "outputs": [],
   "source": [
    "from gensim.models import Word2Vec\n",
    "import gensim\n",
    "from nltk.tokenize import sent_tokenize, word_tokenize\n",
    "from sklearn.metrics.pairwise import cosine_similarity\n",
    "# from readingcorp import FUNCTION"
   ]
  },
  {
   "cell_type": "code",
   "execution_count": 70,
   "metadata": {},
   "outputs": [],
   "source": [
    "from nltk.corpus import brown"
   ]
  },
  {
   "cell_type": "code",
   "execution_count": 71,
   "metadata": {},
   "outputs": [],
   "source": [
    "sentences = []\n",
    "\n",
    "with open(\"harry_potter.txt\") as f:\n",
    "    for line in f:\n",
    "        sentences.append(word_tokenize(line))"
   ]
  },
  {
   "cell_type": "code",
   "execution_count": 105,
   "metadata": {},
   "outputs": [],
   "source": [
    "old_sentences = sentences[0:10000]\n",
    "new_sentences = sentences[10000:20000]\n",
    "# Load the dictionary from \n",
    "# dict = FUNCTION()\n",
    "# old_sentences = dict[\"year1\"]\n",
    "# new_sentences = dict[\"year2\"]"
   ]
  },
  {
   "cell_type": "code",
   "execution_count": 106,
   "metadata": {},
   "outputs": [],
   "source": [
    "model_1 = gensim.models.Word2Vec(old_sentences, window=5)\n",
    "model_2 = gensim.models.Word2Vec(new_sentences, window=5)"
   ]
  },
  {
   "cell_type": "code",
   "execution_count": 107,
   "metadata": {},
   "outputs": [],
   "source": [
    "common_words = set(model_1.wv.key_to_index.keys()).intersection(set(model_2.wv.key_to_index.keys()))"
   ]
  },
  {
   "cell_type": "code",
   "execution_count": 108,
   "metadata": {},
   "outputs": [],
   "source": [
    "similarities = {}\n",
    "for word in common_words:\n",
    "    similarities[word] = cosine_similarity(model_1.wv[word].reshape(1,-1),model_2.wv[word].reshape(1,-1))[0][0]"
   ]
  },
  {
   "cell_type": "code",
   "execution_count": 124,
   "metadata": {},
   "outputs": [],
   "source": [
    "sorted_by_similarity = sorted(similarities.items(), key = lambda x : x[1])"
   ]
  },
  {
   "cell_type": "code",
   "execution_count": 127,
   "metadata": {},
   "outputs": [
    {
     "data": {
      "text/plain": [
       "[('the', 0.67875874),\n",
       " ('of', 0.755246),\n",
       " ('and', 0.76004946),\n",
       " ('his', 0.7695195),\n",
       " ('had', 0.7901448),\n",
       " ('fell', 0.7909205),\n",
       " ('was', 0.79477),\n",
       " ('into', 0.79941356),\n",
       " ('a', 0.7995287),\n",
       " ('said', 0.8022046),\n",
       " ('down', 0.80239725),\n",
       " ('eyes', 0.8042687),\n",
       " ('over', 0.80637836),\n",
       " ('in', 0.8091757),\n",
       " ('on', 0.8100218),\n",
       " ('as', 0.81065124),\n",
       " ('first', 0.81098294),\n",
       " ('them', 0.81329215),\n",
       " ('terrible', 0.8146811),\n",
       " ('their', 0.8151612),\n",
       " ('How', 0.8155184),\n",
       " ('looked', 0.816066),\n",
       " ('hands', 0.81608737),\n",
       " ('out', 0.816157),\n",
       " ('day', 0.8173875),\n",
       " (':', 0.8185295),\n",
       " ('pain', 0.8190478),\n",
       " ('once', 0.82128215),\n",
       " ('full', 0.8215705),\n",
       " ('around', 0.8222778)]"
      ]
     },
     "execution_count": 127,
     "metadata": {},
     "output_type": "execute_result"
    }
   ],
   "source": [
    "sorted_by_similarity[:30]"
   ]
  }
 ],
 "metadata": {
  "kernelspec": {
   "display_name": "expenv",
   "language": "python",
   "name": "python3"
  },
  "language_info": {
   "codemirror_mode": {
    "name": "ipython",
    "version": 3
   },
   "file_extension": ".py",
   "mimetype": "text/x-python",
   "name": "python",
   "nbconvert_exporter": "python",
   "pygments_lexer": "ipython3",
   "version": "3.9.20"
  }
 },
 "nbformat": 4,
 "nbformat_minor": 2
}
